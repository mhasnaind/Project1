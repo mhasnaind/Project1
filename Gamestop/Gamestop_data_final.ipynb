{
 "cells": [
  {
   "cell_type": "code",
   "execution_count": 1,
   "id": "9cc16407",
   "metadata": {},
   "outputs": [
    {
     "ename": "ModuleNotFoundError",
     "evalue": "No module named 'seaborn'",
     "output_type": "error",
     "traceback": [
      "\u001b[1;31m---------------------------------------------------------------------------\u001b[0m",
      "\u001b[1;31mModuleNotFoundError\u001b[0m                       Traceback (most recent call last)",
      "\u001b[1;32m<ipython-input-1-b085878fc622>\u001b[0m in \u001b[0;36m<module>\u001b[1;34m\u001b[0m\n\u001b[0;32m      8\u001b[0m \u001b[1;32mfrom\u001b[0m \u001b[0mpathlib\u001b[0m \u001b[1;32mimport\u001b[0m \u001b[0mPath\u001b[0m\u001b[1;33m\u001b[0m\u001b[1;33m\u001b[0m\u001b[0m\n\u001b[0;32m      9\u001b[0m \u001b[1;32mimport\u001b[0m \u001b[0mdatetime\u001b[0m \u001b[1;32mas\u001b[0m \u001b[0mdt\u001b[0m\u001b[1;33m\u001b[0m\u001b[1;33m\u001b[0m\u001b[0m\n\u001b[1;32m---> 10\u001b[1;33m \u001b[1;32mimport\u001b[0m \u001b[0mseaborn\u001b[0m \u001b[1;32mas\u001b[0m \u001b[0msns\u001b[0m\u001b[1;33m\u001b[0m\u001b[1;33m\u001b[0m\u001b[0m\n\u001b[0m\u001b[0;32m     11\u001b[0m \u001b[1;33m\u001b[0m\u001b[0m\n\u001b[0;32m     12\u001b[0m \u001b[1;32mimport\u001b[0m \u001b[0mmatplotlib\u001b[0m\u001b[1;33m.\u001b[0m\u001b[0mpyplot\u001b[0m \u001b[1;32mas\u001b[0m \u001b[0mplt\u001b[0m\u001b[1;33m\u001b[0m\u001b[1;33m\u001b[0m\u001b[0m\n",
      "\u001b[1;31mModuleNotFoundError\u001b[0m: No module named 'seaborn'"
     ]
    }
   ],
   "source": [
    "# Initial imports\n",
    "import os\n",
    "import requests\n",
    "import pandas as pd\n",
    "from dotenv import load_dotenv\n",
    "import alpaca_trade_api as tradeapi\n",
    "from MCForecastTools import MCSimulation\n",
    "from pathlib import Path\n",
    "import datetime as dt\n",
    "import seaborn as sns\n",
    "\n",
    "import matplotlib.pyplot as plt\n",
    "\n",
    "%matplotlib inline"
   ]
  },
  {
   "cell_type": "code",
   "execution_count": null,
   "id": "ff443dd0",
   "metadata": {},
   "outputs": [],
   "source": [
    "plt.rcParams[\"figure.figsize\"] = (22,12)\n"
   ]
  },
  {
   "cell_type": "code",
   "execution_count": null,
   "id": "558c9862",
   "metadata": {},
   "outputs": [],
   "source": [
    "# Load .env enviroment variables\n",
    "load_dotenv()\n"
   ]
  },
  {
   "cell_type": "code",
   "execution_count": null,
   "id": "8165d9a6",
   "metadata": {},
   "outputs": [],
   "source": [
    "# Set Alpaca API key and secret\n",
    "alpaca_api_key = os.getenv(\"ALPACA_API_KEY\")\n",
    "alpaca_secret_key = os.getenv(\"ALPACA_SECRET_KEY\")\n",
    "\n",
    "# Create the Alpaca API object\n",
    "alpaca = tradeapi.REST(\n",
    "    alpaca_api_key,\n",
    "    alpaca_secret_key,\n",
    "    api_version=\"v2\")"
   ]
  },
  {
   "cell_type": "code",
   "execution_count": null,
   "id": "72885917",
   "metadata": {},
   "outputs": [],
   "source": [
    "start_date = pd.Timestamp(\"2017-05-19\", tz=\"America/New_York\").isoformat()\n",
    "end_date = pd.Timestamp(\"2020-05-19\", tz=\"America/New_York\").isoformat()\n",
    "\n",
    "# Set the tickers\n",
    "tickers = [\"GME\"]\n",
    "\n",
    "# Set timeframe to '1D' for Alpaca API\n",
    "timeframe = \"1D\"\n",
    "\n",
    "\n",
    "df_gamestop_1 = alpaca.get_barset(\n",
    "    tickers,\n",
    "    timeframe,\n",
    "    start=start_date,\n",
    "    end=end_date,\n",
    "    limit=1000,\n",
    ").df\n",
    "\n",
    "# Preview DataFrame\n",
    "df_gamestop_1.head()"
   ]
  },
  {
   "cell_type": "code",
   "execution_count": null,
   "id": "3451c18c",
   "metadata": {},
   "outputs": [],
   "source": [
    "df_gamestop_1.index = df_gamestop_1.index.values.astype('datetime64[D]')\n",
    "df_gamestop_1.index = df_gamestop_1.index.set_names(['Date'])\n",
    "df_gamestop_1.tail()"
   ]
  },
  {
   "cell_type": "code",
   "execution_count": null,
   "id": "9eb5d465",
   "metadata": {},
   "outputs": [],
   "source": [
    "df_gamestop_1.to_csv(\"df_gamestop_1.csv\")"
   ]
  },
  {
   "cell_type": "code",
   "execution_count": null,
   "id": "fe6b81f7",
   "metadata": {},
   "outputs": [],
   "source": [
    "MC_ten_year_1 = MCSimulation(\n",
    "    portfolio_data = df_gamestop_1,\n",
    "    weights = [1],\n",
    "    num_simulation = 500,\n",
    "    num_trading_days = 252 * 10\n",
    ")"
   ]
  },
  {
   "cell_type": "code",
   "execution_count": null,
   "id": "7da8a83c",
   "metadata": {},
   "outputs": [],
   "source": [
    "MC_ten_year_1.portfolio_data.head()"
   ]
  },
  {
   "cell_type": "code",
   "execution_count": null,
   "id": "7690d09c",
   "metadata": {},
   "outputs": [],
   "source": [
    "MC_ten_year_1.calc_cumulative_return()"
   ]
  },
  {
   "cell_type": "code",
   "execution_count": null,
   "id": "76755c08",
   "metadata": {},
   "outputs": [],
   "source": [
    "Sim_plot_prevolatility = MC_ten_year_1.plot_simulation()"
   ]
  },
  {
   "cell_type": "code",
   "execution_count": null,
   "id": "f6fd07e3",
   "metadata": {},
   "outputs": [],
   "source": [
    "dist_plot_1 = MC_ten_year_1.plot_distribution()"
   ]
  },
  {
   "cell_type": "code",
   "execution_count": null,
   "id": "6373724a",
   "metadata": {},
   "outputs": [],
   "source": [
    "tbl_1 = MC_ten_year_1.summarize_cumulative_return()\n",
    "\n",
    "print(tbl_1)"
   ]
  },
  {
   "cell_type": "code",
   "execution_count": null,
   "id": "4bc1bdcd",
   "metadata": {},
   "outputs": [],
   "source": [
    "\n",
    "start_date = pd.Timestamp(\"2018-05-19\", tz=\"America/New_York\").isoformat()\n",
    "end_date = pd.Timestamp(\"2021-05-19\", tz=\"America/New_York\").isoformat()\n",
    "\n",
    "# Set the tickers\n",
    "tickers = [\"GME\"]\n",
    "\n",
    "# Set timeframe to '1D' for Alpaca API\n",
    "timeframe = \"1D\"\n",
    "\n",
    "\n",
    "df_gamestop_2 = alpaca.get_barset(\n",
    "    tickers,\n",
    "    timeframe,\n",
    "    start=start_date,\n",
    "    end=end_date,\n",
    "    limit=1000,\n",
    ").df\n",
    "\n",
    "# Preview DataFrame\n",
    "df_gamestop_2.head()\n",
    "\n"
   ]
  },
  {
   "cell_type": "code",
   "execution_count": null,
   "id": "2ab85d63",
   "metadata": {},
   "outputs": [],
   "source": [
    "\n",
    "\n",
    "df_gamestop_2.index = df_gamestop_2.index.values.astype('datetime64[D]')\n",
    "df_gamestop_2.index = df_gamestop_2.index.set_names(['Date'])\n",
    "df_gamestop_2.tail()"
   ]
  },
  {
   "cell_type": "code",
   "execution_count": null,
   "id": "0f1607e6",
   "metadata": {},
   "outputs": [],
   "source": [
    "df_gamestop_2.to_csv(\"df_gamestop_2.csv\")"
   ]
  },
  {
   "cell_type": "code",
   "execution_count": null,
   "id": "fb5c4da5",
   "metadata": {},
   "outputs": [],
   "source": [
    "MC_ten_year_2 = MCSimulation(\n",
    "    portfolio_data = df_gamestop_2,\n",
    "    weights = [1],\n",
    "    num_simulation = 500,\n",
    "    num_trading_days = 252 * 10\n",
    ")"
   ]
  },
  {
   "cell_type": "code",
   "execution_count": null,
   "id": "69de5482",
   "metadata": {},
   "outputs": [],
   "source": [
    "GME_returns = MC_ten_year_2.portfolio_data"
   ]
  },
  {
   "cell_type": "code",
   "execution_count": null,
   "id": "793a9c36",
   "metadata": {},
   "outputs": [],
   "source": [
    "GME_returns.head()"
   ]
  },
  {
   "cell_type": "code",
   "execution_count": null,
   "id": "e8053cfa",
   "metadata": {},
   "outputs": [],
   "source": [
    "GME_daily_return = GME_returns['GME']['daily_return'] "
   ]
  },
  {
   "cell_type": "code",
   "execution_count": null,
   "id": "e983bf77",
   "metadata": {},
   "outputs": [],
   "source": [
    "GME_daily_return"
   ]
  },
  {
   "cell_type": "code",
   "execution_count": null,
   "id": "85ce2ef6",
   "metadata": {},
   "outputs": [],
   "source": [
    "GME_daily_return = GME_daily_return.dropna()\n",
    "\n",
    "GME_daily_return.isnull().sum()"
   ]
  },
  {
   "cell_type": "code",
   "execution_count": null,
   "id": "817cdec5",
   "metadata": {},
   "outputs": [],
   "source": [
    "#GME daily returns plot\n",
    "\n",
    "GME_return_plt = GME_daily_return.plot(figsize=(30,12), title='Daily Returns of GME')\n",
    "GME_return_plt.set(ylabel='Returns (%)')\n",
    "\n",
    "plt.axhline(y=0.0, color='k', alpha=0.5, linestyle='--')  \n",
    "plt.show()"
   ]
  },
  {
   "cell_type": "code",
   "execution_count": null,
   "id": "ddfb6e43",
   "metadata": {},
   "outputs": [],
   "source": [
    "MC_ten_year_2.calc_cumulative_return()"
   ]
  },
  {
   "cell_type": "code",
   "execution_count": null,
   "id": "b035b2ff",
   "metadata": {},
   "outputs": [],
   "source": [
    "Sim_plot_postvolatility = MC_ten_year_2.plot_simulation()\n",
    "plt.savefig(\"foo.png\")"
   ]
  },
  {
   "cell_type": "code",
   "execution_count": null,
   "id": "23c961d4",
   "metadata": {},
   "outputs": [],
   "source": [
    "dist_plot_2 = MC_ten_year_2.plot_distribution()"
   ]
  },
  {
   "cell_type": "code",
   "execution_count": null,
   "id": "35a588d5",
   "metadata": {},
   "outputs": [],
   "source": [
    "tbl_2 = MC_ten_year_2.summarize_cumulative_return()\n",
    "\n",
    "print(tbl_2)"
   ]
  },
  {
   "cell_type": "code",
   "execution_count": null,
   "id": "e5fccfbe",
   "metadata": {},
   "outputs": [],
   "source": []
  },
  {
   "cell_type": "code",
   "execution_count": null,
   "id": "43a619fa",
   "metadata": {},
   "outputs": [],
   "source": [
    "#Import Twitter data for GME mentions \n",
    "\n",
    "twitter_data_path = Path(\"twitter_data_2021.csv\")\n",
    "\n",
    "twitter_data = pd.read_csv(twitter_data_path, parse_dates=True, infer_datetime_format=True)\n",
    "\n",
    "twitter_data['Date']=pd.to_datetime(twitter_data['Date'])\n",
    "\n",
    "twitter_data = twitter_data.set_index('Date')\n",
    "\n",
    "twitter_data.tail()\n",
    "\n"
   ]
  },
  {
   "cell_type": "code",
   "execution_count": null,
   "id": "e80fdba4",
   "metadata": {},
   "outputs": [],
   "source": [
    "import datetime as dt\n",
    "\n",
    "df_gamestop_2.index = df_gamestop_2.index.values.astype('datetime64[D]')\n",
    "df_gamestop_2.index = df_gamestop_2.index.set_names(['Date'])\n",
    "df_gamestop_2.tail()"
   ]
  },
  {
   "cell_type": "code",
   "execution_count": null,
   "id": "08a11d9a",
   "metadata": {},
   "outputs": [],
   "source": [
    "Social_GME_data = pd.merge(twitter_data, df_gamestop_2['GME'], how='outer', on='Date')\n",
    "\n",
    "Social_GME_data = Social_GME_data.drop(['gamestock','gamestonk','gme','r/wallstreetbets'], axis =1)\n",
    "\n",
    "Social_GME_data = Social_GME_data.drop(['open','high','low','volume'], axis =1)\n",
    "\n",
    "Social_GME_data.head()"
   ]
  },
  {
   "cell_type": "code",
   "execution_count": null,
   "id": "16d7f007",
   "metadata": {},
   "outputs": [],
   "source": [
    "Social_GME_data_pct = Social_GME_data .pct_change()\n",
    "\n",
    "Social_GME_data_pct.head()"
   ]
  },
  {
   "cell_type": "code",
   "execution_count": null,
   "id": "a4e59373",
   "metadata": {},
   "outputs": [],
   "source": [
    "Social_GME_pct_plot  = Social_GME_data_pct.dropna() \n",
    "Social_GME_pct_plot.head()\n",
    "\n",
    "Social_GME_pct_plot.plot()\n"
   ]
  },
  {
   "cell_type": "code",
   "execution_count": null,
   "id": "29331d9f",
   "metadata": {},
   "outputs": [],
   "source": [
    "social_GME_corr = Social_GME_pct_plot.corr()\n",
    "\n",
    "social_GME_corr\n",
    "\n",
    "sns.heatmap(social_corr ,vmin=-1, vmax=1)"
   ]
  },
  {
   "cell_type": "code",
   "execution_count": null,
   "id": "b6685d33",
   "metadata": {},
   "outputs": [],
   "source": [
    "social_GME_corr"
   ]
  },
  {
   "cell_type": "code",
   "execution_count": null,
   "id": "d02d3e10",
   "metadata": {},
   "outputs": [],
   "source": [
    "GME_daily_return"
   ]
  },
  {
   "cell_type": "code",
   "execution_count": null,
   "id": "b81b4b39",
   "metadata": {},
   "outputs": [],
   "source": [
    "daily_returns_ewm = GME_daily_return.ewm(halflife=21).std()"
   ]
  },
  {
   "cell_type": "code",
   "execution_count": null,
   "id": "0bd0f35d",
   "metadata": {},
   "outputs": [],
   "source": [
    "\n",
    "GME_ewm_std = daily_returns_ewm.plot(figsize=(30,12), title='Exponentially Weighted Standard Deviation (21-day halflife) of GME')\n",
    "GME_ewm_std.set(ylabel='standard deviation')\n",
    "plt.show()"
   ]
  },
  {
   "cell_type": "code",
   "execution_count": null,
   "id": "2720e92f",
   "metadata": {},
   "outputs": [],
   "source": [
    "#group by absolute number of tweets / relationship to stock price (percent change of price) - absolute number of tweets as a proxy for interest in stock\n"
   ]
  },
  {
   "cell_type": "code",
   "execution_count": null,
   "id": "b4870e69",
   "metadata": {},
   "outputs": [],
   "source": [
    "Social_GME_data.head()"
   ]
  },
  {
   "cell_type": "code",
   "execution_count": null,
   "id": "d1593040",
   "metadata": {},
   "outputs": [],
   "source": [
    "#Social_GME_data_index = Social_GME_data.reset_index().dropna() "
   ]
  },
  {
   "cell_type": "code",
   "execution_count": null,
   "id": "d01672fb",
   "metadata": {},
   "outputs": [],
   "source": [
    "Social_GME_data_index"
   ]
  },
  {
   "cell_type": "code",
   "execution_count": null,
   "id": "896d7d04",
   "metadata": {},
   "outputs": [],
   "source": [
    "scatterplot_GME = sns.scatterplot(data=Social_GME_data, x=\"Date\", y=\"close\", size='total_tweets', hue=\"total_tweets\")\n"
   ]
  },
  {
   "cell_type": "code",
   "execution_count": null,
   "id": "7a43b18a",
   "metadata": {},
   "outputs": [],
   "source": [
    "# Plots I want to use to tell the financial data story\n",
    "\n",
    "#daily return plot\n",
    "GME_return_plt\n",
    "\n",
    "#Simulation plots pre and post stock price volatility\n",
    "Sim_plot_prevolatility\n",
    "Sim_plot_postvolatility\n",
    "\n",
    "#Moving weighted average standard deviation plot to show volatility\n",
    "GME_ewm_std\n",
    "\n",
    "# Pct change correlation between Social mentions and Stock price changes\n",
    "social_GME_corr\n",
    "\n",
    "#Scatterplot graph showing a relationship between date / stock price and twitter mentions (Just need to adjust the x axis scale and show dates from 2019 onwards)\n",
    "scatterplot_GME\n",
    "\n",
    "\n"
   ]
  },
  {
   "cell_type": "code",
   "execution_count": null,
   "id": "fd60ac67",
   "metadata": {},
   "outputs": [],
   "source": []
  }
 ],
 "metadata": {
  "kernelspec": {
   "display_name": "Python [conda env:alpacaenv]",
   "language": "python",
   "name": "conda-env-alpacaenv-py"
  },
  "language_info": {
   "codemirror_mode": {
    "name": "ipython",
    "version": 3
   },
   "file_extension": ".py",
   "mimetype": "text/x-python",
   "name": "python",
   "nbconvert_exporter": "python",
   "pygments_lexer": "ipython3",
   "version": "3.9.2"
  }
 },
 "nbformat": 4,
 "nbformat_minor": 5
}
